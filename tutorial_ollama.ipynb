{
 "cells": [
  {
   "cell_type": "code",
   "execution_count": 1,
   "metadata": {},
   "outputs": [
    {
     "data": {
      "text/plain": [
       "{'models': [{'name': 'aya:8b',\n",
       "   'model': 'aya:8b',\n",
       "   'modified_at': '2024-11-18T15:51:13.2451634+01:00',\n",
       "   'size': 4797474023,\n",
       "   'digest': '7ef8c4942023233f441474200440ada6cb37ca276e52861e0fe8dd7aea570224',\n",
       "   'details': {'parent_model': '',\n",
       "    'format': 'gguf',\n",
       "    'family': 'command-r',\n",
       "    'families': ['command-r'],\n",
       "    'parameter_size': '8.0B',\n",
       "    'quantization_level': 'F16'}},\n",
       "  {'name': 'phi3:3.8b',\n",
       "   'model': 'phi3:3.8b',\n",
       "   'modified_at': '2024-11-18T15:46:40.5870996+01:00',\n",
       "   'size': 2176178913,\n",
       "   'digest': '4f222292793889a9a40a020799cfd28d53f3e01af25d48e06c5e708610fc47e9',\n",
       "   'details': {'parent_model': '',\n",
       "    'format': 'gguf',\n",
       "    'family': 'phi3',\n",
       "    'families': ['phi3'],\n",
       "    'parameter_size': '3.8B',\n",
       "    'quantization_level': 'Q4_0'}},\n",
       "  {'name': 'llama3.2:3b',\n",
       "   'model': 'llama3.2:3b',\n",
       "   'modified_at': '2024-11-18T15:43:28.9278344+01:00',\n",
       "   'size': 2019393189,\n",
       "   'digest': 'a80c4f17acd55265feec403c7aef86be0c25983ab279d83f3bcd3abbcb5b8b72',\n",
       "   'details': {'parent_model': '',\n",
       "    'format': 'gguf',\n",
       "    'family': 'llama',\n",
       "    'families': ['llama'],\n",
       "    'parameter_size': '3.2B',\n",
       "    'quantization_level': 'Q4_K_M'}},\n",
       "  {'name': 'qwen2.5-coder:7b',\n",
       "   'model': 'qwen2.5-coder:7b',\n",
       "   'modified_at': '2024-11-18T15:12:07.6624257+01:00',\n",
       "   'size': 4683087519,\n",
       "   'digest': '2b0496514337a3d5901f1d253d01726c890b721e891335a56d6e08cedf3e2cb0',\n",
       "   'details': {'parent_model': '',\n",
       "    'format': 'gguf',\n",
       "    'family': 'qwen2',\n",
       "    'families': ['qwen2'],\n",
       "    'parameter_size': '7.6B',\n",
       "    'quantization_level': 'Q4_K_M'}}]}"
      ]
     },
     "execution_count": 1,
     "metadata": {},
     "output_type": "execute_result"
    }
   ],
   "source": [
    "import ollama \n",
    "\n",
    "ollama.list()"
   ]
  },
  {
   "cell_type": "code",
   "execution_count": 5,
   "metadata": {},
   "outputs": [
    {
     "data": {
      "text/plain": [
       "{'status': 'success'}"
      ]
     },
     "execution_count": 5,
     "metadata": {},
     "output_type": "execute_result"
    }
   ],
   "source": [
    "ollama.pull(\"mistral\")"
   ]
  },
  {
   "cell_type": "code",
   "execution_count": 7,
   "metadata": {},
   "outputs": [
    {
     "name": "stdout",
     "output_type": "stream",
     "text": [
      " ... Neil Armstrong. He took his famous \"one small step for man, one giant leap for mankind\" on July 20, 1969 as part of the Apollo 11 mission by NASA. Buzz Aldrin followed shortly behind him, making them the first two humans to walk on the moon."
     ]
    }
   ],
   "source": [
    "stream = ollama.chat(\n",
    "    model=\"mistral\",\n",
    "    messages = [{\n",
    "        \"role\": \"user\",\n",
    "        'content': \"The first person to walk on moon was...\"\n",
    "    }],\n",
    "    stream=True\n",
    ")\n",
    "\n",
    "for chunk in stream:\n",
    "    print(chunk['message']['content'],end='')\n"
   ]
  }
 ],
 "metadata": {
  "kernelspec": {
   "display_name": "Python 3",
   "language": "python",
   "name": "python3"
  },
  "language_info": {
   "codemirror_mode": {
    "name": "ipython",
    "version": 3
   },
   "file_extension": ".py",
   "mimetype": "text/x-python",
   "name": "python",
   "nbconvert_exporter": "python",
   "pygments_lexer": "ipython3",
   "version": "3.13.0"
  }
 },
 "nbformat": 4,
 "nbformat_minor": 2
}
