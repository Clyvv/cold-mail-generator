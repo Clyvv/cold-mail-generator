{
 "cells": [
  {
   "cell_type": "code",
   "execution_count": null,
   "metadata": {},
   "outputs": [
    {
     "name": "stdout",
     "output_type": "stream",
     "text": [
      "That's an easy one! The first person to walk on the moon was Neil Armstrong. He stepped out of the lunar module Eagle and onto the moon's surface on July 20, 1969, during the Apollo 11 mission. Armstrong famously declared, \"That's one small step for man, one giant leap for mankind,\" as he took his first steps on the moon.\n"
     ]
    }
   ],
   "source": [
    "from langchain_groq import ChatGroq\n",
    "\n",
    "llm = ChatGroq(\n",
    "    model=\"llama3-70b-8192\",\n",
    "    temperature=0,\n",
    "    groq_api_key='gsk_GO9Z7'\n",
    "\n",
    ")\n",
    "\n",
    "\n",
    "response = llm.invoke(\"The first person to walk on moon was...\")\n",
    "print(response.content)\n"
   ]
  },
  {
   "cell_type": "code",
   "execution_count": 3,
   "metadata": {},
   "outputs": [
    {
     "name": "stderr",
     "output_type": "stream",
     "text": [
      "USER_AGENT environment variable not set, consider setting it to identify your requests.\n"
     ]
    },
    {
     "name": "stdout",
     "output_type": "stream",
     "text": [
      "Bewirb dich für Manager Software Engineering, ITC\n",
      "\n",
      "JobsucheNavigation überspringenJobsucheNIKE, INC. JOBSBefristete JobsJoin The Talent CommunityUnser Leben bei NikeÜbersichtLeistungenMarkenÜbersichtJordanConverseTeamsÜbersichtAdministrative SupportAdvanced InnovationAir Manufacturing InnovationAviationCommunicationsCustomer ServiceDesignDigitalFacilitiesFinance & AccountingGovernment & Public Affairs\n",
      "Human ResourcesData & AnalyticsLegalManufacturing & EngineeringMarketingMerchandisingPlanningPrivacyProcurementProduct Creation, Development & ManagementRetail CorporateRetail StoresSalesSocial & Community ImpactSports MarketingStrategic PlanningSupply Chain, Distribution & LogisticsSustainabilityTechnologyStandorteÜbersichtNike WHQNike New York HQEHQ: Hilversum, NiederlandeELC: Laakdal, BelgiumGreater China HQDiversität, Gleichstellung und InklusionÜbersichtMilitärBehinderung und InklusionInklusion der indigenen BevölkerungPraktikaTechnologyManager Software Engineering, ITCKarnataka, IndiaWerde Teil des Teams von NIKE, Inc.  NIKE, Inc. stattet nicht nur die besten Athleten der Welt aus. Wir erkunden neue Möglichkeiten, finden Wege und überwinden die Grenzen des Machbaren. Unser Unternehmen sucht nach Menschen, die wachsen, denken, träumen und gestalten möchten. Unsere Unternehmenskultur schätzt Vielfalt und belohnt Einfallsreichtum. Unsere Marke sucht Menschen, die ihre Ziele erreichen, Führungsfähigkeiten haben und den Blick in die Zukunft richten. Bei NIKE, Inc. bringen alle Mitarbeiterinnen und Mitarbeiter ihre Fähigkeiten ein und nehmen immer neue Herausforderungen mit Leidenschaft an.NIKE ist ein Technologieunternehmen. Unsere Teams bei NIKE Global Technology revolutionieren die Zukunft in der Synergie von Technik und Sport – von unserer state-of-the-art Website und unseren 5-Sterne-Apps bis hin zu Produktentwicklung, Verwaltung von Big Data und hochmodernem Engineering und Systemsupport. Wir investieren in Technologien und entwickeln sie weiter. Bei uns arbeiten einige der kreativsten Köpfe der Welt. Wir unterstützen sie darin, Kunden zu helfen, sich neu- und weiterzuentwickeln und ihnen dabei direkt und persönlich zu helfen.  Unsere Teams sind innovativ, vielseitig und Meister mehrerer Disziplinen. Gemeinsam treiben sie Technologie an und nehmen die Welt dabei gleich mit.WHO YOU’LL WORK WITHThis role is part of the Nike’s Content Technology team within Marketing Technology team, working very closely with the globally distributed Engineering and Product teams. This role will roll up to the Director Software Engineering based out of Nike India Tech Centre.WHO WE ARE LOOKING FORWe are looking for experienced Technology focused and hands on Engineering Manager to join our team in Bengaluru, India.The engineering manager supports a squad of world class engineers, manages delivery priorities, and ensures high quality and well architected solutions are delivered on time and within budget.We are looking forAcademic background in computer science (BS or MS) or equivalent work experience.A minimum of 5 years management experience (as direct people manager or equivalent of managing engineers) of high performing software engineering teams and total 12+ years of experience in software development.Leadership in a highly collaborative, multi-discipline development team environment.Exposure to backend development skills in Java/Spring.Experience of building microservices using cloud services to build an integrated application (AWS preferred).Exposure to tuning relational database (MySQL) and non-relation DB (MongoDB, Dynamo DB).Experience with building data-intensive web applications using modern UI frameworks like React or Polymer.Experience working with Product Managers, other development teams, and technology platform teams to accelerate software development and increase quality.Experience in goal settings, mentoring hiring and ramping up the teams.Comfortable working within an exciting fast-paced environment by reducing ambiguity and building trust with the team.Willingness to explore new technologies and creative solutions.Strong at estimating work, planning, organization, and implementing complex software projects.Experience with implementing CI/CD and leading teams with DevOps responsibilities of deploying and supporting the software in production.Comfortable working in a fast-paced, results-oriented environment.Comfortable working with globally distributed and diverse teams.Excellent verbal and written communication and collaboration skills to effectively communicate with both business and technical teams.WHAT YOU’LL WORK ONProvide engineering leadership and best practices to continuously build new platforms and deliver working software.Collaborating with product team members at Nike World Head Quarter and India Tech center to design, develop, and deploy a highly scalable digital asset management system and services. Collaborate with upstream and downstream technical teams across Geos to develop integrations to provide a seamless flow of our marketing assets from planning to delivery.  Participating in the construction of new features and identifying areas for improvement proactively.The squad you lead will work on innovating, architecting, designing, and implementing highly available, scalable systems, focusing on highly visible marketing initiatives.NIKE, Inc. ist ein Wachstumsunternehmen, das nach Mitarbeiterinnen und Mitarbeitern sucht, die mit uns wachsen möchten. Nike bietet ein großzügiges Leistungspaket, ein ungezwungenes Arbeitsumfeld, eine vielfältige und inklusive Unternehmenskultur und eine Atmosphäre, die berufliche Weiterentwicklung begünstigt. Unabhängig von Standort und Rolle verfolgen alle Beschäftigten von Nike gemeinsam ein Ziel: Jedem Athleten* der Welt Inspiration und Innovation zu bringen.NIKE, Inc. legt bei der Auswahl seiner Mitarbeiter Wert auf Vielfalt. Wir prüfen qualifizierte Bewerber ohne Berücksichtigung von ethnischer Zugehörigkeit, Herkunft, Religion, Nationalität, Alter, sexueller Orientierung, Geschlecht, Geschlechtsidentität, Veteranenstatus und Behinderung.Unser EinstellungsverfahrenWir bei NIKE, Inc. sind darauf bedacht, ein erstklassiges, integratives, spannendes und authentisches Bewerbungsverfahren zu bieten. Das heißt: Wir wollen, dass du dich von deiner besten Seite zeigen kannst. Dazu solltest du wissen, wie unser Einstellungsverfahren funktioniert. Transparenz ist der Schlüssel.\n",
      "\n",
      "*In dieser Übersicht wird unser Einstellungsverfahren für unternehmensinterne Rollen erläutert. Beachte, dass für nicht unternehmensinterne Rollen möglicherweise abweichende Einstellungsschritte erforderlich sind.Jetzt anfangenLeistungenVon der Mobilität bis hin zu finanzieller Sicherheit: Wir investieren fortwährend in unsere Mitarbeiter, um ihnen dabei zu helfen, Großes zu leisten – am Arbeitsplatz und darüber hinaus. All unsere Mitarbeiter sollen in der Lage sein, ihr volles Potenzial auszuschöpfen.Mitarbeiterberatung und ‑unterstützungUrlaubKrankenversicherungBezahlter UrlaubRabatt auf ProdukteMehr erfahrenGESCHENKGUTSCHEINESTORE SUCHENNIKE JOURNALMEMBER WERDENSTUDENTENRABATTFEEDBACKAKTIONSCODESHILFEHILFEBestellstatusVersand und LieferungRückgabeZahlungsoptionenKontaktNike Aktionscodes - HilfeÜBER NIKEÜBER NIKENeuigkeitenKarriereInvestorenNachhaltigkeitNIKE APPSNIKE APPSNike AppNike Run ClubNike Training ClubSNKRSDeutschland© 2024 Nike, Inc. Alle Rechte vorbehaltenGuidesNike AdaptNike FlyEaseNike FreeNike VaporflyNBA-FanausrüstungNike AirNike FlyknitNike PegasusNike Zoom FlyFactory StoreNike Air MaxNike FlyleatherNike ReactNike ZoomXKids AirtopiaNutzungsbedingungenVerkaufsbedingungenImpressumDatenschutzrichtlinie und Cookie-ErklärungCookie-Einstellungen ändern.\n"
     ]
    }
   ],
   "source": [
    "from langchain_community.document_loaders import WebBaseLoader\n",
    "\n",
    "loader = WebBaseLoader(\"https://jobs.nike.com/job/R-37695\")\n",
    "page_data = loader.load().pop().page_content\n",
    "print(page_data)"
   ]
  },
  {
   "cell_type": "code",
   "execution_count": 4,
   "metadata": {},
   "outputs": [
    {
     "name": "stdout",
     "output_type": "stream",
     "text": [
      "{\n",
      "\"role\": \"Manager Software Engineering, ITC\",\n",
      "\"experience\": \"A minimum of 5 years management experience (as direct people manager or equivalent of managing engineers) of high performing software engineering teams and total 12+ years of experience in software development.\",\n",
      "\"skills\": [\"Academic background in computer science (BS or MS) or equivalent work experience\", \"Leadership in a highly collaborative, multi-discipline development team environment\", \"Exposure to backend development skills in Java/Spring\", \"Experience of building microservices using cloud services to build an integrated application (AWS preferred)\", \"Exposure to tuning relational database (MySQL) and non-relation DB (MongoDB, Dynamo DB)\", \"Experience with building data-intensive web applications using modern UI frameworks like React or Polymer\", \"Experience working with Product Managers, other development teams, and technology platform teams to accelerate software development and increase quality\", \"Experience in goal settings, mentoring hiring and ramping up the teams\", \"Comfortable working within an exciting fast-paced environment by reducing ambiguity and building trust with the team\", \"Willingness to explore new technologies and creative solutions\", \"Strong at estimating work, planning, organization, and implementing complex software projects\", \"Experience with implementing CI/CD and leading teams with DevOps responsibilities of deploying and supporting the software in production\", \"Comfortable working in a fast-paced, results-oriented environment\", \"Comfortable working with globally distributed and diverse teams\", \"Excellent verbal and written communication and collaboration skills to effectively communicate with both business and technical teams\"],\n",
      "\"description\": \"Provide engineering leadership and best practices to continuously build new platforms and deliver working software. Collaborating with product team members at Nike World Head Quarter and India Tech center to design, develop, and deploy a highly scalable digital asset management system and services. Collaborate with upstream and downstream technical teams across Geos to develop integrations to provide a seamless flow of our marketing assets from planning to delivery. Participating in the construction of new features and identifying areas for improvement proactively. The squad you lead will work on innovating, architecting, designing, and implementing highly available, scalable systems, focusing on highly visible marketing initiatives.\"\n",
      "}\n"
     ]
    }
   ],
   "source": [
    "from langchain_core.prompts import PromptTemplate\n",
    "\n",
    "prompt_extract = PromptTemplate.from_template(\n",
    "    \"\"\"\n",
    "    ### SCRAPED TEXT FROM WEBSITE:\n",
    "    {page_data}\n",
    "    ### INSTRUCTION\n",
    "    The scraped test is from the career's page website.\n",
    "    Your job is to extract the job postings and return them in JSON format containing the following keys: `role`, `experience`, `skills` and `description`.\n",
    "    Only return the valid JSON object. NO PREAMBLE.\n",
    "    ### VALID JSON (NO PREAMBLE):\n",
    "    \"\"\"\n",
    ")\n",
    "\n",
    "chain_extract = prompt_extract | llm\n",
    "res = chain_extract.invoke(input={'page_data':page_data})\n",
    "print(res.content)"
   ]
  },
  {
   "cell_type": "code",
   "execution_count": 6,
   "metadata": {},
   "outputs": [
    {
     "data": {
      "text/plain": [
       "{'role': 'Manager Software Engineering, ITC',\n",
       " 'experience': 'A minimum of 5 years management experience (as direct people manager or equivalent of managing engineers) of high performing software engineering teams and total 12+ years of experience in software development.',\n",
       " 'skills': ['Academic background in computer science (BS or MS) or equivalent work experience',\n",
       "  'Leadership in a highly collaborative, multi-discipline development team environment',\n",
       "  'Exposure to backend development skills in Java/Spring',\n",
       "  'Experience of building microservices using cloud services to build an integrated application (AWS preferred)',\n",
       "  'Exposure to tuning relational database (MySQL) and non-relation DB (MongoDB, Dynamo DB)',\n",
       "  'Experience with building data-intensive web applications using modern UI frameworks like React or Polymer',\n",
       "  'Experience working with Product Managers, other development teams, and technology platform teams to accelerate software development and increase quality',\n",
       "  'Experience in goal settings, mentoring hiring and ramping up the teams',\n",
       "  'Comfortable working within an exciting fast-paced environment by reducing ambiguity and building trust with the team',\n",
       "  'Willingness to explore new technologies and creative solutions',\n",
       "  'Strong at estimating work, planning, organization, and implementing complex software projects',\n",
       "  'Experience with implementing CI/CD and leading teams with DevOps responsibilities of deploying and supporting the software in production',\n",
       "  'Comfortable working in a fast-paced, results-oriented environment',\n",
       "  'Comfortable working with globally distributed and diverse teams',\n",
       "  'Excellent verbal and written communication and collaboration skills to effectively communicate with both business and technical teams'],\n",
       " 'description': 'Provide engineering leadership and best practices to continuously build new platforms and deliver working software. Collaborating with product team members at Nike World Head Quarter and India Tech center to design, develop, and deploy a highly scalable digital asset management system and services. Collaborate with upstream and downstream technical teams across Geos to develop integrations to provide a seamless flow of our marketing assets from planning to delivery. Participating in the construction of new features and identifying areas for improvement proactively. The squad you lead will work on innovating, architecting, designing, and implementing highly available, scalable systems, focusing on highly visible marketing initiatives.'}"
      ]
     },
     "execution_count": 6,
     "metadata": {},
     "output_type": "execute_result"
    }
   ],
   "source": [
    "from langchain_core.output_parsers import JsonOutputParser\n",
    "\n",
    "json_parser = JsonOutputParser()\n",
    "json_res = json_parser.parse(res.content)\n",
    "json_res"
   ]
  },
  {
   "cell_type": "code",
   "execution_count": null,
   "metadata": {},
   "outputs": [
    {
     "data": {
      "text/html": [
       "<div>\n",
       "<style scoped>\n",
       "    .dataframe tbody tr th:only-of-type {\n",
       "        vertical-align: middle;\n",
       "    }\n",
       "\n",
       "    .dataframe tbody tr th {\n",
       "        vertical-align: top;\n",
       "    }\n",
       "\n",
       "    .dataframe thead th {\n",
       "        text-align: right;\n",
       "    }\n",
       "</style>\n",
       "<table border=\"1\" class=\"dataframe\">\n",
       "  <thead>\n",
       "    <tr style=\"text-align: right;\">\n",
       "      <th></th>\n",
       "      <th>Techstack</th>\n",
       "      <th>Links</th>\n",
       "    </tr>\n",
       "  </thead>\n",
       "  <tbody>\n",
       "    <tr>\n",
       "      <th>0</th>\n",
       "      <td>React, Node.js, MongoDB</td>\n",
       "      <td>https://example.com/react-portfolio</td>\n",
       "    </tr>\n",
       "    <tr>\n",
       "      <th>1</th>\n",
       "      <td>Angular,.NET, SQL Server</td>\n",
       "      <td>https://example.com/angular-portfolio</td>\n",
       "    </tr>\n",
       "    <tr>\n",
       "      <th>2</th>\n",
       "      <td>Vue.js, Ruby on Rails, PostgreSQL</td>\n",
       "      <td>https://example.com/vue-portfolio</td>\n",
       "    </tr>\n",
       "    <tr>\n",
       "      <th>3</th>\n",
       "      <td>Python, Django, MySQL</td>\n",
       "      <td>https://example.com/python-portfolio</td>\n",
       "    </tr>\n",
       "    <tr>\n",
       "      <th>4</th>\n",
       "      <td>Java, Spring Boot, Oracle</td>\n",
       "      <td>https://example.com/java-portfolio</td>\n",
       "    </tr>\n",
       "    <tr>\n",
       "      <th>5</th>\n",
       "      <td>Flutter, Firebase, GraphQL</td>\n",
       "      <td>https://example.com/flutter-portfolio</td>\n",
       "    </tr>\n",
       "    <tr>\n",
       "      <th>6</th>\n",
       "      <td>WordPress, PHP, MySQL</td>\n",
       "      <td>https://example.com/wordpress-portfolio</td>\n",
       "    </tr>\n",
       "    <tr>\n",
       "      <th>7</th>\n",
       "      <td>Magento, PHP, MySQL</td>\n",
       "      <td>https://example.com/magento-portfolio</td>\n",
       "    </tr>\n",
       "    <tr>\n",
       "      <th>8</th>\n",
       "      <td>React Native, Node.js, MongoDB</td>\n",
       "      <td>https://example.com/react-native-portfolio</td>\n",
       "    </tr>\n",
       "    <tr>\n",
       "      <th>9</th>\n",
       "      <td>iOS, Swift, Core Data</td>\n",
       "      <td>https://example.com/ios-portfolio</td>\n",
       "    </tr>\n",
       "    <tr>\n",
       "      <th>10</th>\n",
       "      <td>Android, Java, Room Persistence</td>\n",
       "      <td>https://example.com/android-portfolio</td>\n",
       "    </tr>\n",
       "    <tr>\n",
       "      <th>11</th>\n",
       "      <td>Kotlin, Android, Firebase</td>\n",
       "      <td>https://example.com/kotlin-android-portfolio</td>\n",
       "    </tr>\n",
       "    <tr>\n",
       "      <th>12</th>\n",
       "      <td>Android TV, Kotlin, Android NDK</td>\n",
       "      <td>https://example.com/android-tv-portfolio</td>\n",
       "    </tr>\n",
       "    <tr>\n",
       "      <th>13</th>\n",
       "      <td>iOS, Swift, ARKit</td>\n",
       "      <td>https://example.com/ios-ar-portfolio</td>\n",
       "    </tr>\n",
       "    <tr>\n",
       "      <th>14</th>\n",
       "      <td>Cross-platform, Xamarin, Azure</td>\n",
       "      <td>https://example.com/xamarin-portfolio</td>\n",
       "    </tr>\n",
       "    <tr>\n",
       "      <th>15</th>\n",
       "      <td>Backend, Kotlin, Spring Boot</td>\n",
       "      <td>https://example.com/kotlin-backend-portfolio</td>\n",
       "    </tr>\n",
       "    <tr>\n",
       "      <th>16</th>\n",
       "      <td>Frontend, TypeScript, Angular</td>\n",
       "      <td>https://example.com/typescript-frontend-portfolio</td>\n",
       "    </tr>\n",
       "    <tr>\n",
       "      <th>17</th>\n",
       "      <td>Full-stack, JavaScript, Express.js</td>\n",
       "      <td>https://example.com/full-stack-js-portfolio</td>\n",
       "    </tr>\n",
       "    <tr>\n",
       "      <th>18</th>\n",
       "      <td>Machine Learning, Python, TensorFlow</td>\n",
       "      <td>https://example.com/ml-python-portfolio</td>\n",
       "    </tr>\n",
       "    <tr>\n",
       "      <th>19</th>\n",
       "      <td>DevOps, Jenkins, Docker</td>\n",
       "      <td>https://example.com/devops-portfolio</td>\n",
       "    </tr>\n",
       "  </tbody>\n",
       "</table>\n",
       "</div>"
      ],
      "text/plain": [
       "                               Techstack  \\\n",
       "0                React, Node.js, MongoDB   \n",
       "1               Angular,.NET, SQL Server   \n",
       "2      Vue.js, Ruby on Rails, PostgreSQL   \n",
       "3                  Python, Django, MySQL   \n",
       "4              Java, Spring Boot, Oracle   \n",
       "5             Flutter, Firebase, GraphQL   \n",
       "6                  WordPress, PHP, MySQL   \n",
       "7                    Magento, PHP, MySQL   \n",
       "8         React Native, Node.js, MongoDB   \n",
       "9                  iOS, Swift, Core Data   \n",
       "10       Android, Java, Room Persistence   \n",
       "11             Kotlin, Android, Firebase   \n",
       "12       Android TV, Kotlin, Android NDK   \n",
       "13                     iOS, Swift, ARKit   \n",
       "14        Cross-platform, Xamarin, Azure   \n",
       "15          Backend, Kotlin, Spring Boot   \n",
       "16         Frontend, TypeScript, Angular   \n",
       "17    Full-stack, JavaScript, Express.js   \n",
       "18  Machine Learning, Python, TensorFlow   \n",
       "19               DevOps, Jenkins, Docker   \n",
       "\n",
       "                                                Links  \n",
       "0                 https://example.com/react-portfolio  \n",
       "1               https://example.com/angular-portfolio  \n",
       "2                   https://example.com/vue-portfolio  \n",
       "3                https://example.com/python-portfolio  \n",
       "4                  https://example.com/java-portfolio  \n",
       "5               https://example.com/flutter-portfolio  \n",
       "6             https://example.com/wordpress-portfolio  \n",
       "7               https://example.com/magento-portfolio  \n",
       "8          https://example.com/react-native-portfolio  \n",
       "9                   https://example.com/ios-portfolio  \n",
       "10              https://example.com/android-portfolio  \n",
       "11       https://example.com/kotlin-android-portfolio  \n",
       "12           https://example.com/android-tv-portfolio  \n",
       "13               https://example.com/ios-ar-portfolio  \n",
       "14              https://example.com/xamarin-portfolio  \n",
       "15       https://example.com/kotlin-backend-portfolio  \n",
       "16  https://example.com/typescript-frontend-portfolio  \n",
       "17        https://example.com/full-stack-js-portfolio  \n",
       "18            https://example.com/ml-python-portfolio  \n",
       "19               https://example.com/devops-portfolio  "
      ]
     },
     "execution_count": 16,
     "metadata": {},
     "output_type": "execute_result"
    }
   ],
   "source": [
    "import pandas as pd \n",
    "\n",
    "df = pd.read_csv(\"my_portfolio.csv\")\n",
    "df"
   ]
  },
  {
   "cell_type": "code",
   "execution_count": 7,
   "metadata": {},
   "outputs": [],
   "source": [
    "\n",
    "import uuid\n",
    "import chromadb\n",
    "\n",
    "client = chromadb.PersistentClient('vectorstore')\n",
    "collection = client.get_or_create_collection(name=\"portfolio\")\n",
    "\n",
    "if not collection.count():\n",
    "    for _,row in df.iterrows():\n",
    "        collection.add(documents = row[\"Techstack\"],\n",
    "                       metadatas={\"links\": row[\"Links\"]},\n",
    "                       ids=[str(uuid.uuid4())])"
   ]
  },
  {
   "cell_type": "code",
   "execution_count": 10,
   "metadata": {},
   "outputs": [
    {
     "data": {
      "text/plain": [
       "[[{'links': 'https://example.com/ml-python-portfolio'},\n",
       "  {'links': 'https://example.com/devops-portfolio'}],\n",
       " [{'links': 'https://example.com/devops-portfolio'},\n",
       "  {'links': 'https://example.com/kotlin-backend-portfolio'}],\n",
       " [{'links': 'https://example.com/kotlin-backend-portfolio'},\n",
       "  {'links': 'https://example.com/java-portfolio'}],\n",
       " [{'links': 'https://example.com/devops-portfolio'},\n",
       "  {'links': 'https://example.com/xamarin-portfolio'}],\n",
       " [{'links': 'https://example.com/react-portfolio'},\n",
       "  {'links': 'https://example.com/react-native-portfolio'}],\n",
       " [{'links': 'https://example.com/react-portfolio'},\n",
       "  {'links': 'https://example.com/full-stack-js-portfolio'}],\n",
       " [{'links': 'https://example.com/xamarin-portfolio'},\n",
       "  {'links': 'https://example.com/ml-python-portfolio'}],\n",
       " [{'links': 'https://example.com/ml-python-portfolio'},\n",
       "  {'links': 'https://example.com/devops-portfolio'}],\n",
       " [{'links': 'https://example.com/android-portfolio'},\n",
       "  {'links': 'https://example.com/devops-portfolio'}],\n",
       " [{'links': 'https://example.com/magento-portfolio'},\n",
       "  {'links': 'https://example.com/wordpress-portfolio'}],\n",
       " [{'links': 'https://example.com/ml-python-portfolio'},\n",
       "  {'links': 'https://example.com/devops-portfolio'}],\n",
       " [{'links': 'https://example.com/devops-portfolio'},\n",
       "  {'links': 'https://example.com/xamarin-portfolio'}],\n",
       " [{'links': 'https://example.com/ml-python-portfolio'},\n",
       "  {'links': 'https://example.com/devops-portfolio'}],\n",
       " [{'links': 'https://example.com/xamarin-portfolio'},\n",
       "  {'links': 'https://example.com/devops-portfolio'}],\n",
       " [{'links': 'https://example.com/ml-python-portfolio'},\n",
       "  {'links': 'https://example.com/kotlin-android-portfolio'}]]"
      ]
     },
     "execution_count": 10,
     "metadata": {},
     "output_type": "execute_result"
    }
   ],
   "source": [
    "job = json_res\n",
    "links = collection.query(query_texts=job['skills'],n_results=2).get('metadatas')\n",
    "links"
   ]
  },
  {
   "cell_type": "code",
   "execution_count": 11,
   "metadata": {},
   "outputs": [
    {
     "data": {
      "text/plain": [
       "['Academic background in computer science (BS or MS) or equivalent work experience',\n",
       " 'Leadership in a highly collaborative, multi-discipline development team environment',\n",
       " 'Exposure to backend development skills in Java/Spring',\n",
       " 'Experience of building microservices using cloud services to build an integrated application (AWS preferred)',\n",
       " 'Exposure to tuning relational database (MySQL) and non-relation DB (MongoDB, Dynamo DB)',\n",
       " 'Experience with building data-intensive web applications using modern UI frameworks like React or Polymer',\n",
       " 'Experience working with Product Managers, other development teams, and technology platform teams to accelerate software development and increase quality',\n",
       " 'Experience in goal settings, mentoring hiring and ramping up the teams',\n",
       " 'Comfortable working within an exciting fast-paced environment by reducing ambiguity and building trust with the team',\n",
       " 'Willingness to explore new technologies and creative solutions',\n",
       " 'Strong at estimating work, planning, organization, and implementing complex software projects',\n",
       " 'Experience with implementing CI/CD and leading teams with DevOps responsibilities of deploying and supporting the software in production',\n",
       " 'Comfortable working in a fast-paced, results-oriented environment',\n",
       " 'Comfortable working with globally distributed and diverse teams',\n",
       " 'Excellent verbal and written communication and collaboration skills to effectively communicate with both business and technical teams']"
      ]
     },
     "execution_count": 11,
     "metadata": {},
     "output_type": "execute_result"
    }
   ],
   "source": [
    "job['skills']"
   ]
  },
  {
   "cell_type": "code",
   "execution_count": 12,
   "metadata": {},
   "outputs": [
    {
     "name": "stdout",
     "output_type": "stream",
     "text": [
      "Subject: Expert Software Engineering Leadership for Your Digital Asset Management System\n",
      "\n",
      "Dear Hiring Manager,\n",
      "\n",
      "I came across the job description for a Manager Software Engineering, ITC at Nike, and I'm excited to introduce AtliQ, an AI & Software Consulting company that can help you fulfill your software engineering needs. Our team of experts has a proven track record of delivering scalable, high-performing software solutions that meet the demands of fast-paced environments.\n",
      "\n",
      "With our expertise in software development, we can provide engineering leadership and best practices to continuously build new platforms and deliver working software. Our team is well-versed in backend development skills in Java/Spring, building microservices using cloud services, and tuning relational and non-relational databases (MySQL, MongoDB, Dynamo DB). We also have experience with modern UI frameworks like React or Polymer and building data-intensive web applications.\n",
      "\n",
      "Our DevOps capabilities ensure seamless CI/CD implementation, and our teams are comfortable working in fast-paced, results-oriented environments. We have a strong background in goal setting, mentoring, hiring, and ramping up teams, which aligns with your requirements.\n",
      "\n",
      "I'd like to highlight some of our relevant portfolio pieces that demonstrate our capabilities:\n",
      "\n",
      "* Our DevOps portfolio showcases our expertise in implementing CI/CD pipelines and ensuring smooth deployment and support of software in production. (https://example.com/devops-portfolio)\n",
      "* Our Java portfolio highlights our proficiency in building scalable and efficient Java-based applications. (https://example.com/java-portfolio)\n",
      "* Our React portfolio demonstrates our ability to build modern, data-intensive web applications using React. (https://example.com/react-portfolio)\n",
      "\n",
      "At AtliQ, we're committed to delivering high-quality software solutions that meet our clients' needs. I believe our team can provide the necessary engineering leadership and expertise to help you achieve your goals.\n",
      "\n",
      "If you're interested in discussing how AtliQ can support your digital asset management system and services, I'd be happy to set up a call.\n",
      "\n",
      "Best regards,\n",
      "\n",
      "Mohan\n",
      "Business Development Executive\n",
      "AtliQ\n"
     ]
    }
   ],
   "source": [
    "prompt_email = PromptTemplate.from_template(\n",
    "        \"\"\"\n",
    "        ### JOB DESCRIPTION:\n",
    "        {job_description}\n",
    "        \n",
    "        ### INSTRUCTION:\n",
    "        You are Mohan, a business development executive at AtliQ. AtliQ is an AI & Software Consulting company dedicated to facilitating\n",
    "        the seamless integration of business processes through automated tools. \n",
    "        Over our experience, we have empowered numerous enterprises with tailored solutions, fostering scalability, \n",
    "        process optimization, cost reduction, and heightened overall efficiency. \n",
    "        Your job is to write a cold email to the client regarding the job mentioned above describing the capability of AtliQ \n",
    "        in fulfilling their needs.\n",
    "        Also add the most relevant ones from the following links to showcase Atliq's portfolio: {link_list}\n",
    "        Remember you are Mohan, BDE at AtliQ. \n",
    "        Do not provide a preamble.\n",
    "        ### EMAIL (NO PREAMBLE):\n",
    "        \n",
    "        \"\"\"\n",
    "        )\n",
    "\n",
    "chain_email = prompt_email | llm\n",
    "res = chain_email.invoke({\"job_description\": str(job), \"link_list\": links})\n",
    "print(res.content)"
   ]
  }
 ],
 "metadata": {
  "kernelspec": {
   "display_name": "Python 3",
   "language": "python",
   "name": "python3"
  },
  "language_info": {
   "codemirror_mode": {
    "name": "ipython",
    "version": 3
   },
   "file_extension": ".py",
   "mimetype": "text/x-python",
   "name": "python",
   "nbconvert_exporter": "python",
   "pygments_lexer": "ipython3",
   "version": "3.13.0"
  }
 },
 "nbformat": 4,
 "nbformat_minor": 2
}
